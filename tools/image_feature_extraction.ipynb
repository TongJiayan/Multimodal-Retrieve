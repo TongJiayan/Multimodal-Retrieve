{
 "cells": [
  {
   "cell_type": "code",
   "execution_count": 97,
   "metadata": {},
   "outputs": [],
   "source": [
    "import logging\n",
    "import os.path as osp\n",
    "from glob import glob\n",
    "from os import makedirs\n",
    "from sys import stdout\n",
    "\n",
    "import numpy as np\n",
    "\n",
    "import torch\n",
    "import torch.nn as nn\n",
    "import torchvision\n",
    "import torchvision.transforms as transforms\n",
    "from torch.utils.data import DataLoader, Dataset\n",
    "from torchvision.datasets import ImageFolder\n",
    "import torchvision.models as models\n",
    "from tqdm import tqdm\n",
    "import scipy.io\n",
    "\n",
    "def choose_device(use_cuda=True):\n",
    "    cuda = use_cuda and torch.cuda.is_available()\n",
    "    device = torch.device(\"cuda\"if cuda else \"cpu\")\n",
    "    print('Using:'+str(device))\n",
    "    return device\n",
    "\n",
    "def get_network(device):\n",
    "    net = models.vgg19(pretrained=True)\n",
    "    # net = models.alexnet(pretrained=True)\n",
    "    # net = models.densenet121(pretrained=True)\n",
    "    net.classifier = nn.Sequential(*list(net.classifier.children())[:-1])\n",
    "    return net.to(device)\n",
    "\n",
    "def get_xforms():\n",
    "    normalize = transforms.Normalize(mean=[0.485,0.456,0.406],\n",
    "                                     std=[0.229,0.224,0.225])\n",
    "    xforms = transforms.Compose([\n",
    "        transforms.RandomResizedCrop(224),\n",
    "        transforms.RandomHorizontalFlip(),\n",
    "        transforms.ToTensor(),\n",
    "        normalize,\n",
    "    ])\n",
    "    return xforms\n",
    "\n",
    "def get_dataloader(im_dir,xforms,batch_size=4,num_workers=4):\n",
    "    data = DataLoader(ImageFolder(im_dir,xforms),\n",
    "                     batch_size = batch_size,\n",
    "                     shuffle=False,\n",
    "                     num_workers = num_workers)\n",
    "    return data\n",
    "\n",
    "def get_features(raw_image,network,device):\n",
    "    features = []\n",
    "    for batch_idx,data in tqdm(enumerate(raw_image)):\n",
    "        input,target = data[0].to(device),data[1].to(device)\n",
    "        features.append(network(input))\n",
    "    return np.vstack([f.cpu().data.numpy() for f in features])"
   ]
  },
  {
   "cell_type": "code",
   "execution_count": 104,
   "metadata": {},
   "outputs": [],
   "source": [
    "def pipeline(im_train_dir, im_test_dir, mat_name):\n",
    "    with torch.no_grad():\n",
    "        device = choose_device()\n",
    "        network = get_network(device)\n",
    "        network.eval() \n",
    "        raw_train_image = get_dataloader(im_train_dir,get_xforms())\n",
    "        raw_test_image = get_dataloader(im_test_dir, get_xforms())\n",
    "        train_features = get_features(raw_train_image, network, device)\n",
    "        test_features = get_features(raw_test_image, network, device)\n",
    "        scipy.io.savemat(mat_name, mdict={'img_train':train_features,\n",
    "                                        'img_test':test_features})"
   ]
  },
  {
   "cell_type": "code",
   "execution_count": 108,
   "metadata": {
    "scrolled": false
   },
   "outputs": [
    {
     "name": "stdout",
     "output_type": "stream",
     "text": [
      "Using:cuda\n"
     ]
    },
    {
     "name": "stderr",
     "output_type": "stream",
     "text": [
      "403it [00:12, 34.48it/s]/home/jiayan/mlpy37/lib/python3.7/site-packages/PIL/TiffImagePlugin.py:788: UserWarning: Corrupt EXIF data.  Expecting to read 4 bytes but only got 0. \n",
      "  warnings.warn(str(msg))\n",
      "482it [00:14, 30.95it/s]/home/jiayan/mlpy37/lib/python3.7/site-packages/PIL/TiffImagePlugin.py:788: UserWarning: Corrupt EXIF data.  Expecting to read 4 bytes but only got 0. \n",
      "  warnings.warn(str(msg))\n",
      "518it [00:15, 40.26it/s]/home/jiayan/mlpy37/lib/python3.7/site-packages/PIL/TiffImagePlugin.py:788: UserWarning: Corrupt EXIF data.  Expecting to read 4 bytes but only got 0. \n",
      "  warnings.warn(str(msg))\n",
      "544it [00:16, 32.65it/s]\n",
      "174it [00:05, 29.19it/s]\n"
     ]
    }
   ],
   "source": [
    "dataset = 'WIKI' # Modify \n",
    "if dataset == 'PASCAL':\n",
    "    im_train_dir = './raw_image_pascal/train/'\n",
    "    im_test_dir = './raw_image_pascal/test/'\n",
    "    mat_name =  'pascal_img_vgg19.mat'\n",
    "elif dataset == 'WIKI':\n",
    "    im_train_dir = './raw_image_wiki/train/'\n",
    "    im_test_dir = './raw_image_wiki/test/'\n",
    "    mat_name =  'wiki_img_vgg19.mat'\n",
    "elif dataset == 'NUSWIDE':\n",
    "    im_train_dir = './raw_image_nuswide/train/'\n",
    "    im_test_dir = './raw_image_nuswide/test/'\n",
    "    mat_name =  'nuswide_img_vgg19.mat'\n",
    "\n",
    "if __name__ == '__main__':\n",
    "    pipeline(im_train_dir, im_test_dir, mat_name )"
   ]
  }
 ],
 "metadata": {
  "kernelspec": {
   "display_name": "Python 3",
   "language": "python",
   "name": "python3"
  },
  "language_info": {
   "codemirror_mode": {
    "name": "ipython",
    "version": 3
   },
   "file_extension": ".py",
   "mimetype": "text/x-python",
   "name": "python",
   "nbconvert_exporter": "python",
   "pygments_lexer": "ipython3",
   "version": "3.7.5"
  }
 },
 "nbformat": 4,
 "nbformat_minor": 4
}
