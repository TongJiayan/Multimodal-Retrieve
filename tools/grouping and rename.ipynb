{
 "cells": [
  {
   "cell_type": "code",
   "execution_count": null,
   "metadata": {},
   "outputs": [],
   "source": [
    "# rename the image files and text files to idx.jpg/idx.xml\n",
    "# according to trainset_txt_img_cat.list and testset_txt_img_cat.list\n",
    "import os, sys\n",
    "def read_list(list_path):\n",
    "    file = open(list_path,'r')\n",
    "    txt_img_cat = file.readlines()\n",
    "    file.close()\n",
    "    return txt_img_cat\n",
    "    \n",
    "def rename(txt_img_cat, txt_path, img_path): \n",
    "    # split\n",
    "    for idx, record in enumerate(txt_img_cat):\n",
    "        txt_filename = record.split()[0]\n",
    "        img_filename= record.split()[1]\n",
    "        os.rename(txt_path + txt_filename + '.xml', txt_path + str(idx) + '.xml')\n",
    "        os.rename(img_path + img_filename + '.jpg', img_path + str(idx) + '.jpg')"
   ]
  },
  {
   "cell_type": "code",
   "execution_count": 30,
   "metadata": {},
   "outputs": [],
   "source": [
    "    \n",
    "train_txt_img_cat = read_list('trainset_txt_img_cat.list')\n",
    "test_txt_img_cat = read_list('testset_txt_img_cat.list')\n",
    "txt_img_cat = train_txt_img_cat + test_txt_img_cat\n",
    "rename(txt_img_cat,'./texts/','./images/')"
   ]
  },
  {
   "cell_type": "code",
   "execution_count": 10,
   "metadata": {},
   "outputs": [],
   "source": [
    "# grouping images files into subdirectories : ./images/train/ and ./images/test/ \n",
    "# as well as texts\n",
    "import os\n",
    "from shutil import copyfile \n",
    "def grouping(txt_path,img_path,trainset_size,dataset_size):\n",
    "    if not os.path.exists(txt_path+'train'):\n",
    "        os.makedirs(txt_path+'train')\n",
    "    if not os.path.exists(txt_path+'test'):\n",
    "        os.makedirs(txt_path+'test')\n",
    "    if not os.path.exists(img_path+'train'):\n",
    "        os.makedirs(img_path+'train')\n",
    "    if not os.path.exists(img_path+'test'):\n",
    "        os.makedirs(img_path+'test')\n",
    "    os.chdir(txt_path)\n",
    "    for idx in range(0,dataset_size):\n",
    "        if idx < trainset_size:\n",
    "            copyfile(str(idx)+'.xml', 'train/'+str(idx)+'.xml')\n",
    "        else:\n",
    "            copyfile(str(idx)+'.xml', 'test/'+str(idx)+'.xml')\n",
    "    os.chdir('../'+img_path)\n",
    "    for idx in range(0,dataset_size):\n",
    "        if idx < trainset_size:\n",
    "            copyfile(str(idx)+'.jpg', 'train/'+str(idx)+'.jpg')\n",
    "        else:\n",
    "            copyfile(str(idx)+'.jpg', 'test/'+str(idx)+'.jpg')\n",
    "grouping('./texts/','./images/',2173,2866)"
   ]
  },
  {
   "cell_type": "code",
   "execution_count": 2,
   "metadata": {},
   "outputs": [],
   "source": [
    "import os\n",
    "# Rename x.jpg to 000x.jpg to make files ordered\n",
    "root_path = 'raw_image_wiki/train/'\n",
    "for idx in range(0,2173):\n",
    "    old_filename = root_path + str(idx) + '.jpg'\n",
    "    if idx < 10:\n",
    "        prefix = '000'\n",
    "    elif idx < 100:\n",
    "        prefix = '00'\n",
    "    elif idx < 1000:\n",
    "        prefix = '0'\n",
    "    else:\n",
    "        prefix = ''\n",
    "    new_filename = root_path + prefix + str(idx) + '.jpg'\n",
    "    os.rename(old_filename, new_filename)"
   ]
  }
 ],
 "metadata": {
  "kernelspec": {
   "display_name": "Python 3",
   "language": "python",
   "name": "python3"
  },
  "language_info": {
   "codemirror_mode": {
    "name": "ipython",
    "version": 3
   },
   "file_extension": ".py",
   "mimetype": "text/x-python",
   "name": "python",
   "nbconvert_exporter": "python",
   "pygments_lexer": "ipython3",
   "version": "3.7.5"
  }
 },
 "nbformat": 4,
 "nbformat_minor": 4
}
